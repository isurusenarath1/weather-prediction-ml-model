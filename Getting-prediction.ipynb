{
 "cells": [
  {
   "cell_type": "code",
   "execution_count": 11,
   "id": "f81c9a6b-f8ba-4981-b0ac-e6e335a85f56",
   "metadata": {},
   "outputs": [
    {
     "name": "stdout",
     "output_type": "stream",
     "text": [
      "Model and scaler loaded successfully.\n"
     ]
    }
   ],
   "source": [
    "import joblib\n",
    "import pandas as pd\n",
    "\n",
    "# Load saved model and scaler\n",
    "knn_model = joblib.load('knn_weather_model.pkl')\n",
    "scaler = joblib.load('scaler.pkl')\n",
    "\n",
    "#error Handle\n",
    "try:\n",
    "    knn_model = joblib.load('knn_weather_model.pkl')\n",
    "    scaler = joblib.load('scaler.pkl')\n",
    "    print(\"Model and scaler loaded successfully.\")\n",
    "except Exception as e:\n",
    "    print(\"Error loading model or scaler:\", e)\n"
   ]
  },
  {
   "cell_type": "code",
   "execution_count": 13,
   "id": "0f40eee9-cec2-423e-bb55-21914431c47c",
   "metadata": {},
   "outputs": [
    {
     "name": "stdout",
     "output_type": "stream",
     "text": [
      "Prediction (0 = Rain, 1 = Not Rain): 1\n"
     ]
    }
   ],
   "source": [
    "# Create input with proper column names\n",
    "new_input_df = pd.DataFrame([[30.0, 85.0, 8.0, 1009.0]], \n",
    "                            columns=['Temperature', 'Humidity', 'WindSpeed', 'Pressure'])\n",
    "\n",
    "# Scale the input\n",
    "scaled_input = scaler.transform(new_input_df)\n",
    "\n",
    "# Predict\n",
    "prediction = knn_model.predict(scaled_input)\n",
    "print(\"Prediction (0 = Rain, 1 = Not Rain):\", prediction[0])"
   ]
  },
  {
   "cell_type": "code",
   "execution_count": null,
   "id": "03b5030d-485e-4ddc-89f8-4dd8aca2f947",
   "metadata": {},
   "outputs": [],
   "source": []
  }
 ],
 "metadata": {
  "kernelspec": {
   "display_name": "Python [conda env:base] *",
   "language": "python",
   "name": "conda-base-py"
  },
  "language_info": {
   "codemirror_mode": {
    "name": "ipython",
    "version": 3
   },
   "file_extension": ".py",
   "mimetype": "text/x-python",
   "name": "python",
   "nbconvert_exporter": "python",
   "pygments_lexer": "ipython3",
   "version": "3.13.5"
  }
 },
 "nbformat": 4,
 "nbformat_minor": 5
}
